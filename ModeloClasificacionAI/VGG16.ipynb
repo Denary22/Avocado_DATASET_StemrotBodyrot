{
  "nbformat": 4,
  "nbformat_minor": 0,
  "metadata": {
    "colab": {
      "provenance": [],
      "gpuType": "T4"
    },
    "kernelspec": {
      "name": "python3",
      "display_name": "Python 3"
    },
    "language_info": {
      "name": "python"
    },
    "accelerator": "GPU"
  },
  "cells": [
    {
      "cell_type": "code",
      "source": [
        "pip install --upgrade tensorflow\n"
      ],
      "metadata": {
        "colab": {
          "base_uri": "https://localhost:8080/"
        },
        "id": "C8Jl6fD3lbo4",
        "outputId": "1f62154a-021a-46d9-f57f-f3920edff0bc",
        "collapsed": true
      },
      "execution_count": null,
      "outputs": [
        {
          "output_type": "stream",
          "name": "stdout",
          "text": [
            "Requirement already satisfied: tensorflow in /usr/local/lib/python3.10/dist-packages (2.17.0)\n",
            "Requirement already satisfied: absl-py>=1.0.0 in /usr/local/lib/python3.10/dist-packages (from tensorflow) (1.4.0)\n",
            "Requirement already satisfied: astunparse>=1.6.0 in /usr/local/lib/python3.10/dist-packages (from tensorflow) (1.6.3)\n",
            "Requirement already satisfied: flatbuffers>=24.3.25 in /usr/local/lib/python3.10/dist-packages (from tensorflow) (24.3.25)\n",
            "Requirement already satisfied: gast!=0.5.0,!=0.5.1,!=0.5.2,>=0.2.1 in /usr/local/lib/python3.10/dist-packages (from tensorflow) (0.6.0)\n",
            "Requirement already satisfied: google-pasta>=0.1.1 in /usr/local/lib/python3.10/dist-packages (from tensorflow) (0.2.0)\n",
            "Requirement already satisfied: h5py>=3.10.0 in /usr/local/lib/python3.10/dist-packages (from tensorflow) (3.11.0)\n",
            "Requirement already satisfied: libclang>=13.0.0 in /usr/local/lib/python3.10/dist-packages (from tensorflow) (18.1.1)\n",
            "Requirement already satisfied: ml-dtypes<0.5.0,>=0.3.1 in /usr/local/lib/python3.10/dist-packages (from tensorflow) (0.4.1)\n",
            "Requirement already satisfied: opt-einsum>=2.3.2 in /usr/local/lib/python3.10/dist-packages (from tensorflow) (3.4.0)\n",
            "Requirement already satisfied: packaging in /usr/local/lib/python3.10/dist-packages (from tensorflow) (24.1)\n",
            "Requirement already satisfied: protobuf!=4.21.0,!=4.21.1,!=4.21.2,!=4.21.3,!=4.21.4,!=4.21.5,<5.0.0dev,>=3.20.3 in /usr/local/lib/python3.10/dist-packages (from tensorflow) (3.20.3)\n",
            "Requirement already satisfied: requests<3,>=2.21.0 in /usr/local/lib/python3.10/dist-packages (from tensorflow) (2.32.3)\n",
            "Requirement already satisfied: setuptools in /usr/local/lib/python3.10/dist-packages (from tensorflow) (71.0.4)\n",
            "Requirement already satisfied: six>=1.12.0 in /usr/local/lib/python3.10/dist-packages (from tensorflow) (1.16.0)\n",
            "Requirement already satisfied: termcolor>=1.1.0 in /usr/local/lib/python3.10/dist-packages (from tensorflow) (2.4.0)\n",
            "Requirement already satisfied: typing-extensions>=3.6.6 in /usr/local/lib/python3.10/dist-packages (from tensorflow) (4.12.2)\n",
            "Requirement already satisfied: wrapt>=1.11.0 in /usr/local/lib/python3.10/dist-packages (from tensorflow) (1.16.0)\n",
            "Requirement already satisfied: grpcio<2.0,>=1.24.3 in /usr/local/lib/python3.10/dist-packages (from tensorflow) (1.64.1)\n",
            "Requirement already satisfied: tensorboard<2.18,>=2.17 in /usr/local/lib/python3.10/dist-packages (from tensorflow) (2.17.0)\n",
            "Requirement already satisfied: keras>=3.2.0 in /usr/local/lib/python3.10/dist-packages (from tensorflow) (3.4.1)\n",
            "Requirement already satisfied: tensorflow-io-gcs-filesystem>=0.23.1 in /usr/local/lib/python3.10/dist-packages (from tensorflow) (0.37.1)\n",
            "Requirement already satisfied: numpy<2.0.0,>=1.23.5 in /usr/local/lib/python3.10/dist-packages (from tensorflow) (1.26.4)\n",
            "Requirement already satisfied: wheel<1.0,>=0.23.0 in /usr/local/lib/python3.10/dist-packages (from astunparse>=1.6.0->tensorflow) (0.44.0)\n",
            "Requirement already satisfied: rich in /usr/local/lib/python3.10/dist-packages (from keras>=3.2.0->tensorflow) (13.9.1)\n",
            "Requirement already satisfied: namex in /usr/local/lib/python3.10/dist-packages (from keras>=3.2.0->tensorflow) (0.0.8)\n",
            "Requirement already satisfied: optree in /usr/local/lib/python3.10/dist-packages (from keras>=3.2.0->tensorflow) (0.13.0)\n",
            "Requirement already satisfied: charset-normalizer<4,>=2 in /usr/local/lib/python3.10/dist-packages (from requests<3,>=2.21.0->tensorflow) (3.3.2)\n",
            "Requirement already satisfied: idna<4,>=2.5 in /usr/local/lib/python3.10/dist-packages (from requests<3,>=2.21.0->tensorflow) (3.10)\n",
            "Requirement already satisfied: urllib3<3,>=1.21.1 in /usr/local/lib/python3.10/dist-packages (from requests<3,>=2.21.0->tensorflow) (2.2.3)\n",
            "Requirement already satisfied: certifi>=2017.4.17 in /usr/local/lib/python3.10/dist-packages (from requests<3,>=2.21.0->tensorflow) (2024.8.30)\n",
            "Requirement already satisfied: markdown>=2.6.8 in /usr/local/lib/python3.10/dist-packages (from tensorboard<2.18,>=2.17->tensorflow) (3.7)\n",
            "Requirement already satisfied: tensorboard-data-server<0.8.0,>=0.7.0 in /usr/local/lib/python3.10/dist-packages (from tensorboard<2.18,>=2.17->tensorflow) (0.7.2)\n",
            "Requirement already satisfied: werkzeug>=1.0.1 in /usr/local/lib/python3.10/dist-packages (from tensorboard<2.18,>=2.17->tensorflow) (3.0.4)\n",
            "Requirement already satisfied: MarkupSafe>=2.1.1 in /usr/local/lib/python3.10/dist-packages (from werkzeug>=1.0.1->tensorboard<2.18,>=2.17->tensorflow) (2.1.5)\n",
            "Requirement already satisfied: markdown-it-py>=2.2.0 in /usr/local/lib/python3.10/dist-packages (from rich->keras>=3.2.0->tensorflow) (3.0.0)\n",
            "Requirement already satisfied: pygments<3.0.0,>=2.13.0 in /usr/local/lib/python3.10/dist-packages (from rich->keras>=3.2.0->tensorflow) (2.18.0)\n",
            "Requirement already satisfied: mdurl~=0.1 in /usr/local/lib/python3.10/dist-packages (from markdown-it-py>=2.2.0->rich->keras>=3.2.0->tensorflow) (0.1.2)\n"
          ]
        }
      ]
    },
    {
      "cell_type": "code",
      "execution_count": null,
      "metadata": {
        "id": "Hpu-irhO5JWf"
      },
      "outputs": [],
      "source": [
        "import os\n",
        "import numpy as np\n",
        "import tensorflow as tf\n",
        "from tensorflow.keras.applications import ResNet50\n",
        "from tensorflow.keras.layers import Dense, Flatten\n",
        "from tensorflow.keras.models import Model\n",
        "from sklearn.metrics import confusion_matrix\n",
        "import seaborn as sns\n",
        "import matplotlib.pyplot as plt\n",
        "from sklearn.model_selection import train_test_split\n",
        "from sklearn.preprocessing import LabelEncoder\n",
        "from tqdm import tqdm\n",
        "import random as rn\n"
      ]
    },
    {
      "cell_type": "code",
      "source": [
        "from google.colab import drive\n",
        "drive.mount('/content/drive')"
      ],
      "metadata": {
        "colab": {
          "base_uri": "https://localhost:8080/"
        },
        "id": "MHl1G7G76bCP",
        "outputId": "189150f8-9261-4ace-d8b9-8c6ffd67d136"
      },
      "execution_count": null,
      "outputs": [
        {
          "output_type": "stream",
          "name": "stdout",
          "text": [
            "Mounted at /content/drive\n"
          ]
        }
      ]
    },
    {
      "cell_type": "code",
      "source": [
        "# Variables globales\n",
        "Imagenes = []\n",
        "Etiquetas = []\n",
        "IMG_TAM = 224  # Tamaño de las imágenes para VGG16\n",
        "DIR_BASE = '/content/drive/MyDrive/TT/Imagenes clasificadas'\n",
        "DIR_ENFERMO_SR = DIR_BASE + '/Enfermo/Stem end Rot'\n",
        "DIR_ENFERMO_BR = DIR_BASE + '/Enfermo/Body rot'\n",
        "DIR_SANO = DIR_BASE + '/Sano'"
      ],
      "metadata": {
        "id": "cRd6w7NskOaU"
      },
      "execution_count": null,
      "outputs": []
    },
    {
      "cell_type": "code",
      "source": [
        "# Función para obtener extensiones de archivos\n",
        "def obtener_extension_archivos(DIR):\n",
        "    ext = []\n",
        "    for archivo in os.listdir(DIR):\n",
        "        nom_archivo, ext_archivo = os.path.splitext(archivo)\n",
        "        ext.append(ext_archivo)\n",
        "    extensiones = set(ext)\n",
        "    print(extensiones)\n",
        "\n",
        "# Función para validar imágenes\n",
        "def imagen_valida(archivo, extensiones=[\".jpg\", \".png\", \".JPG\", \".PNG\", \".jfif\", \".jpeg\"]):\n",
        "    nom_archivo, ext_archivo = os.path.splitext(archivo)\n",
        "    es_archivo = os.path.isfile(archivo)\n",
        "    es_imagen = ext_archivo.lower() in extensiones\n",
        "    return es_archivo and es_imagen"
      ],
      "metadata": {
        "id": "6QNHv4tRkTX3"
      },
      "execution_count": null,
      "outputs": []
    },
    {
      "cell_type": "code",
      "source": [
        "# Obtener extensiones\n",
        "obtener_extension_archivos(DIR_ENFERMO_SR)\n",
        "obtener_extension_archivos(DIR_ENFERMO_BR)\n",
        "obtener_extension_archivos(DIR_SANO)"
      ],
      "metadata": {
        "colab": {
          "base_uri": "https://localhost:8080/"
        },
        "id": "K83ctM7nkXK6",
        "outputId": "ccf446d1-b9d2-4cc6-cee6-da8ca634399a"
      },
      "execution_count": null,
      "outputs": [
        {
          "output_type": "stream",
          "name": "stdout",
          "text": [
            "{'.jpg', '.JPG', '.jpeg', '.PNG', '.webp', '.png', '.jfif'}\n",
            "{'.jpg', '.JPG', '.jpeg', '.PNG', '.jfif'}\n",
            "{'', '.jpg', '.JPG', '.jpeg', '.avif', '.jfif'}\n"
          ]
        }
      ]
    },
    {
      "cell_type": "code",
      "source": [
        "# Función para construir la base de datos\n",
        "def construir_base_datos(etiqueta, DIR):\n",
        "    for archivo in tqdm(os.listdir(DIR)):\n",
        "        ruta = os.path.join(DIR, archivo)\n",
        "        if imagen_valida(ruta):\n",
        "            img = tf.keras.preprocessing.image.load_img(ruta, color_mode='rgb')\n",
        "            matriz_img = tf.keras.preprocessing.image.img_to_array(img)\n",
        "            matriz_img = tf.image.resize(matriz_img / 255, [IMG_TAM, IMG_TAM])  # Cambiar tamaño a 224x224\n",
        "            Imagenes.append(matriz_img.numpy())\n",
        "            Etiquetas.append(etiqueta)"
      ],
      "metadata": {
        "id": "09rVkt50kbgF"
      },
      "execution_count": null,
      "outputs": []
    },
    {
      "cell_type": "code",
      "source": [
        "# Etiquetas de las clases\n",
        "clases = ['Sano', 'Enfermo_BODYROT', 'Enfermo_STEMENDROT']\n",
        "construir_base_datos(0, DIR_SANO)\n",
        "print('\\n', len(Etiquetas))\n",
        "construir_base_datos(1, DIR_ENFERMO_BR)\n",
        "print('\\n', len(Etiquetas))\n",
        "construir_base_datos(2, DIR_ENFERMO_SR)\n",
        "print('\\n', len(Etiquetas))\n",
        "\n",
        "# Codificar las etiquetas\n",
        "codificadorEtiquetas = LabelEncoder()\n",
        "claveEtiquetas = codificadorEtiquetas.fit_transform(Etiquetas)\n",
        "\n",
        "# Convertir a one-hot\n",
        "claveEtiquetas = tf.keras.utils.to_categorical(claveEtiquetas, num_classes=len(clases))"
      ],
      "metadata": {
        "colab": {
          "base_uri": "https://localhost:8080/"
        },
        "id": "2ngfbjYikcOZ",
        "outputId": "ff6a813d-a3eb-40af-e105-fb0b42e97963"
      },
      "execution_count": null,
      "outputs": [
        {
          "output_type": "stream",
          "name": "stderr",
          "text": [
            "100%|██████████| 126/126 [00:30<00:00,  4.09it/s]\n"
          ]
        },
        {
          "output_type": "stream",
          "name": "stdout",
          "text": [
            "\n",
            " 101\n"
          ]
        },
        {
          "output_type": "stream",
          "name": "stderr",
          "text": [
            "100%|██████████| 34/34 [00:10<00:00,  3.31it/s]\n"
          ]
        },
        {
          "output_type": "stream",
          "name": "stdout",
          "text": [
            "\n",
            " 135\n"
          ]
        },
        {
          "output_type": "stream",
          "name": "stderr",
          "text": [
            "100%|██████████| 68/68 [00:16<00:00,  4.20it/s]"
          ]
        },
        {
          "output_type": "stream",
          "name": "stdout",
          "text": [
            "\n",
            " 201\n"
          ]
        },
        {
          "output_type": "stream",
          "name": "stderr",
          "text": [
            "\n"
          ]
        }
      ]
    },
    {
      "cell_type": "code",
      "source": [
        "# Dividir los datos en conjuntos de entrenamiento y prueba\n",
        "img_entrenamiento, img_prueba, etq_entrenamiento, etq_prueba = train_test_split(\n",
        "    Imagenes, claveEtiquetas, test_size=0.2, random_state=42)\n",
        "\n",
        "# Convertir las imágenes a un arreglo numpy\n",
        "img_entrenamiento = np.array(img_entrenamiento)\n",
        "img_prueba = np.array(img_prueba)"
      ],
      "metadata": {
        "id": "-c8XvtYLkgY0"
      },
      "execution_count": null,
      "outputs": []
    },
    {
      "cell_type": "code",
      "source": [
        "# Crear el modelo VGG16\n",
        "from tensorflow.keras.applications import VGG16\n",
        "\n",
        "modelo = VGG16(weights='imagenet', include_top=False, input_shape=(IMG_TAM, IMG_TAM, 3))\n",
        "modelo.trainable = False  # Congelar las capas de VGG16\n",
        "\n",
        "# Agregar capas adicionales\n",
        "x = tf.keras.layers.Flatten()(modelo.output)\n",
        "x = tf.keras.layers.Dense(256, activation='relu')(x)\n",
        "x = tf.keras.layers.Dropout(0.5)(x)\n",
        "salida = tf.keras.layers.Dense(len(clases), activation='softmax')(x)  # 3 clases\n",
        "\n",
        "modelo = tf.keras.Model(inputs=modelo.input, outputs=salida)\n",
        "\n",
        "# Compilar el modelo usando categorical_crossentropy\n",
        "modelo.compile(optimizer='adam', loss='categorical_crossentropy', metrics=['accuracy'])"
      ],
      "metadata": {
        "colab": {
          "base_uri": "https://localhost:8080/"
        },
        "id": "eatMwR_ckj_Y",
        "outputId": "31fbb1de-9041-4d04-8e36-d7beec54afd1"
      },
      "execution_count": null,
      "outputs": [
        {
          "output_type": "stream",
          "name": "stdout",
          "text": [
            "Downloading data from https://storage.googleapis.com/tensorflow/keras-applications/vgg16/vgg16_weights_tf_dim_ordering_tf_kernels_notop.h5\n",
            "\u001b[1m58889256/58889256\u001b[0m \u001b[32m━━━━━━━━━━━━━━━━━━━━\u001b[0m\u001b[37m\u001b[0m \u001b[1m0s\u001b[0m 0us/step\n"
          ]
        }
      ]
    },
    {
      "cell_type": "code",
      "source": [
        "# Entrenar el modelo\n",
        "historial = modelo.fit(img_entrenamiento, etq_entrenamiento,\n",
        "                        validation_data=(img_prueba, etq_prueba),\n",
        "                        epochs=10, batch_size=32)"
      ],
      "metadata": {
        "colab": {
          "base_uri": "https://localhost:8080/"
        },
        "id": "RsGJVLJckox6",
        "outputId": "74679b86-9e71-446f-a056-52e0ed860061"
      },
      "execution_count": null,
      "outputs": [
        {
          "output_type": "stream",
          "name": "stdout",
          "text": [
            "Epoch 1/10\n",
            "\u001b[1m5/5\u001b[0m \u001b[32m━━━━━━━━━━━━━━━━━━━━\u001b[0m\u001b[37m\u001b[0m \u001b[1m115s\u001b[0m 23s/step - accuracy: 0.4019 - loss: 3.2296 - val_accuracy: 0.6098 - val_loss: 1.2724\n",
            "Epoch 2/10\n",
            "\u001b[1m5/5\u001b[0m \u001b[32m━━━━━━━━━━━━━━━━━━━━\u001b[0m\u001b[37m\u001b[0m \u001b[1m144s\u001b[0m 24s/step - accuracy: 0.7172 - loss: 1.2704 - val_accuracy: 0.7317 - val_loss: 0.5989\n",
            "Epoch 3/10\n",
            "\u001b[1m5/5\u001b[0m \u001b[32m━━━━━━━━━━━━━━━━━━━━\u001b[0m\u001b[37m\u001b[0m \u001b[1m139s\u001b[0m 23s/step - accuracy: 0.8201 - loss: 0.8841 - val_accuracy: 0.8537 - val_loss: 0.5707\n",
            "Epoch 4/10\n",
            "\u001b[1m5/5\u001b[0m \u001b[32m━━━━━━━━━━━━━━━━━━━━\u001b[0m\u001b[37m\u001b[0m \u001b[1m141s\u001b[0m 23s/step - accuracy: 0.9212 - loss: 0.2295 - val_accuracy: 0.8537 - val_loss: 0.5828\n",
            "Epoch 5/10\n",
            "\u001b[1m5/5\u001b[0m \u001b[32m━━━━━━━━━━━━━━━━━━━━\u001b[0m\u001b[37m\u001b[0m \u001b[1m111s\u001b[0m 23s/step - accuracy: 0.9318 - loss: 0.1967 - val_accuracy: 0.8780 - val_loss: 0.6292\n",
            "Epoch 6/10\n",
            "\u001b[1m5/5\u001b[0m \u001b[32m━━━━━━━━━━━━━━━━━━━━\u001b[0m\u001b[37m\u001b[0m \u001b[1m148s\u001b[0m 25s/step - accuracy: 0.9359 - loss: 0.1243 - val_accuracy: 0.8780 - val_loss: 0.5820\n",
            "Epoch 7/10\n",
            "\u001b[1m5/5\u001b[0m \u001b[32m━━━━━━━━━━━━━━━━━━━━\u001b[0m\u001b[37m\u001b[0m \u001b[1m137s\u001b[0m 24s/step - accuracy: 0.9667 - loss: 0.0973 - val_accuracy: 0.8537 - val_loss: 0.5776\n",
            "Epoch 8/10\n",
            "\u001b[1m5/5\u001b[0m \u001b[32m━━━━━━━━━━━━━━━━━━━━\u001b[0m\u001b[37m\u001b[0m \u001b[1m160s\u001b[0m 28s/step - accuracy: 0.9707 - loss: 0.0657 - val_accuracy: 0.9024 - val_loss: 0.5721\n",
            "Epoch 9/10\n",
            "\u001b[1m5/5\u001b[0m \u001b[32m━━━━━━━━━━━━━━━━━━━━\u001b[0m\u001b[37m\u001b[0m \u001b[1m124s\u001b[0m 24s/step - accuracy: 0.9656 - loss: 0.0749 - val_accuracy: 0.9268 - val_loss: 0.5326\n",
            "Epoch 10/10\n",
            "\u001b[1m5/5\u001b[0m \u001b[32m━━━━━━━━━━━━━━━━━━━━\u001b[0m\u001b[37m\u001b[0m \u001b[1m161s\u001b[0m 28s/step - accuracy: 0.9717 - loss: 0.0488 - val_accuracy: 0.9024 - val_loss: 0.5242\n"
          ]
        }
      ]
    },
    {
      "cell_type": "code",
      "source": [
        "# Generar predicciones\n",
        "predicciones = modelo.predict(img_prueba)\n",
        "predicciones_etq = np.argmax(predicciones, axis=1)\n"
      ],
      "metadata": {
        "id": "8gtSu5xgktlj",
        "colab": {
          "base_uri": "https://localhost:8080/"
        },
        "outputId": "aeba56f5-4392-40b7-9a54-0b7890649cd8"
      },
      "execution_count": null,
      "outputs": [
        {
          "output_type": "stream",
          "name": "stdout",
          "text": [
            "\u001b[1m2/2\u001b[0m \u001b[32m━━━━━━━━━━━━━━━━━━━━\u001b[0m\u001b[37m\u001b[0m \u001b[1m23s\u001b[0m 4s/step\n"
          ]
        }
      ]
    },
    {
      "cell_type": "code",
      "source": [
        "# Obtener las etiquetas verdaderas\n",
        "etq_verdaderas = np.argmax(etq_prueba, axis=1)  # Convertir de one-hot a etiquetas enteras\n",
        "\n",
        "# Generar matriz de confusión\n",
        "conf_matrix = confusion_matrix(etq_verdaderas, predicciones_etq)\n",
        "\n",
        "# Visualizar la matriz de confusión\n",
        "plt.figure(figsize=(10, 7))\n",
        "sns.heatmap(conf_matrix, annot=True, fmt='d', cmap='Blues', xticklabels=clases, yticklabels=clases)\n",
        "plt.ylabel('Etiqueta Verdadera')\n",
        "plt.xlabel('Etiqueta Predicha')\n",
        "plt.title('Matriz de Confusión')\n",
        "plt.show()"
      ],
      "metadata": {
        "id": "TTNqkgY9k0Qn",
        "colab": {
          "base_uri": "https://localhost:8080/",
          "height": 641
        },
        "outputId": "ba9ab7ba-baae-40d2-a097-7ecd9825863b"
      },
      "execution_count": null,
      "outputs": [
        {
          "output_type": "display_data",
          "data": {
            "text/plain": [
              "<Figure size 1000x700 with 2 Axes>"
            ],
            "image/png": "[encoded data removed]"
          },
          "metadata": {}
        }
      ]
    }
  ]
}